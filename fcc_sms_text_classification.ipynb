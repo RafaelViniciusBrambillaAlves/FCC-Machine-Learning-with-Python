{
  "cells": [
    {
      "cell_type": "markdown",
      "source": [
        "## **Classificador de texto SMS baseado em rede neural**"
      ],
      "metadata": {
        "id": "hzHbmZLI0RF_"
      }
    },
    {
      "cell_type": "markdown",
      "source": [
        "Carregando Bibliotecas"
      ],
      "metadata": {
        "id": "kAoVCKRJ0VPj"
      }
    },
    {
      "cell_type": "code",
      "source": [
        "!pip install --upgrade tensorflow"
      ],
      "metadata": {
        "id": "NWFjUz5Mrfpe"
      },
      "execution_count": null,
      "outputs": []
    },
    {
      "cell_type": "code",
      "execution_count": null,
      "metadata": {
        "id": "8RZOuS9LWQvv"
      },
      "outputs": [],
      "source": [
        "  # import libraries\n",
        "  try:\n",
        "    # %tensorflow_version only exists in Colab.\n",
        "    !pip install tf-nightly\n",
        "  except Exception:\n",
        "    pass\n",
        "  import tensorflow as tf\n",
        "  import pandas as pd\n",
        "  from tensorflow import keras\n",
        "  !pip install tensorflow-datasets\n",
        "  import tensorflow_datasets as tfds\n",
        "  import numpy as np\n",
        "  import matplotlib.pyplot as plt\n",
        "\n",
        "\n",
        "print(tf.__version__)"
      ]
    },
    {
      "cell_type": "markdown",
      "source": [
        "Carregando dados"
      ],
      "metadata": {
        "id": "qf4nJOVt0igp"
      }
    },
    {
      "cell_type": "code",
      "execution_count": null,
      "metadata": {
        "id": "lMHwYXHXCar3"
      },
      "outputs": [],
      "source": [
        "# get data files\n",
        "!wget https://cdn.freecodecamp.org/project-data/sms/train-data.tsv\n",
        "!wget https://cdn.freecodecamp.org/project-data/sms/valid-data.tsv\n",
        "\n",
        "train_file_path = \"train-data.tsv\"\n",
        "test_file_path = \"valid-data.tsv\""
      ]
    },
    {
      "cell_type": "markdown",
      "source": [
        "Leitura dos dados e separação do texto com o rotulo"
      ],
      "metadata": {
        "id": "2PhShJ6O0lgN"
      }
    },
    {
      "cell_type": "code",
      "source": [
        "with open('/content/train-data.tsv') as arquivo:\n",
        "  leitura = arquivo.readlines()\n",
        "\n",
        "texto_treino = []\n",
        "rotulo_treino = []\n",
        "\n",
        "for linha in leitura:\n",
        "  texto_treino.append(linha.split(sep = '\\t')[1])\n",
        "  rotulo_treino.append(linha.split(sep = '\\t')[0])"
      ],
      "metadata": {
        "id": "i2AJhndYoDUP"
      },
      "execution_count": null,
      "outputs": []
    },
    {
      "cell_type": "code",
      "source": [
        "tokenizer = tf.keras.preprocessing.text.Tokenizer(num_words=1000) #Transformado o texto em uma sequencia de numeros\n",
        "tokenizer.fit_on_texts(texto_treino) #Constroi o vocabulário com base nas palavras presentes nos textos\n",
        "sequences = tokenizer.texts_to_sequences(texto_treino) #Converte os texto em sequencias\n",
        "X_train = tf.keras.preprocessing.sequence.pad_sequences(sequences, maxlen=100) #Preenchimento da sequencia para que todos tenham o mesmo comprimento\n",
        "y_train = np.array([1 if label == 'spam' else 0 for label in rotulo_treino], dtype=int) #Criação de array numpy, atribuindo 1 para 'spam' e 0 para 'ham'"
      ],
      "metadata": {
        "id": "K2rgydxAoDRG"
      },
      "execution_count": null,
      "outputs": []
    },
    {
      "cell_type": "markdown",
      "source": [
        "Crianção do modelo"
      ],
      "metadata": {
        "id": "TQAwKR461sPv"
      }
    },
    {
      "cell_type": "code",
      "source": [
        "model = tf.keras.Sequential([\n",
        "    tf.keras.layers.Embedding(input_dim=10000, output_dim=64),  # Remova input_length\n",
        "    tf.keras.layers.Dropout(0.5),\n",
        "    tf.keras.layers.Flatten(),\n",
        "    tf.keras.layers.Dense(128, activation='relu'),\n",
        "    tf.keras.layers.Dropout(0.5),\n",
        "    tf.keras.layers.Dense(1, activation='sigmoid')\n",
        "])\n",
        "model.compile(optimizer='adam', loss='binary_crossentropy', metrics=['accuracy'])"
      ],
      "metadata": {
        "id": "wNR1JC-aoDOZ"
      },
      "execution_count": null,
      "outputs": []
    },
    {
      "cell_type": "markdown",
      "source": [
        "Treinamento do modelo"
      ],
      "metadata": {
        "id": "CfxMfdJ6cILc"
      }
    },
    {
      "cell_type": "code",
      "source": [
        "model.fit(X_train, y_train, epochs=100, batch_size=32)"
      ],
      "metadata": {
        "id": "7-wcWCbCoDLc"
      },
      "execution_count": null,
      "outputs": []
    },
    {
      "cell_type": "markdown",
      "source": [
        "Criação da função para processar a mensagem"
      ],
      "metadata": {
        "id": "TpLXGfMrcKqJ"
      }
    },
    {
      "cell_type": "code",
      "source": [
        "def predict_message(pred_text):\n",
        "\n",
        "    pred_seq = tokenizer.texts_to_sequences([pred_text])\n",
        "    pred_seq = tf.keras.preprocessing.sequence.pad_sequences(pred_seq, maxlen=100)\n",
        "\n",
        "    # Previsão\n",
        "    prediction = model.predict(pred_seq)[0, 0]\n",
        "\n",
        "    # Classificar como 'ham' se a previsão for inferior a 0.5, senão, como 'spam'\n",
        "    return 'ham' if prediction < 0.5 else 'spam'"
      ],
      "metadata": {
        "id": "d5FcuZwtoDIt"
      },
      "execution_count": null,
      "outputs": []
    },
    {
      "cell_type": "markdown",
      "source": [
        "Avaliação"
      ],
      "metadata": {
        "id": "TR8ab5nCcV47"
      }
    },
    {
      "cell_type": "code",
      "execution_count": null,
      "metadata": {
        "id": "Dxotov85SjsC"
      },
      "outputs": [],
      "source": [
        "# Run this cell to test your function and model. Do not modify contents.\n",
        "def test_predictions():\n",
        "  test_messages = [\"how are you doing today\",\n",
        "                   \"sale today! to stop texts call 98912460324\",\n",
        "                   \"i dont want to go. can we try it a different day? available sat\",\n",
        "                   \"our new mobile video service is live. just install on your phone to start watching.\",\n",
        "                   \"you have won £1000 cash! call to claim your prize.\",\n",
        "                   \"i'll bring it tomorrow. don't forget the milk.\",\n",
        "                   \"wow, is your arm alright. that happened to me one time too\"\n",
        "                  ]\n",
        "\n",
        "  test_answers = [\"ham\", \"spam\", \"ham\", \"spam\", \"spam\", \"ham\", \"ham\"]\n",
        "  passed = True\n",
        "\n",
        "  for msg, ans in zip(test_messages, test_answers):\n",
        "    prediction = predict_message(msg)\n",
        "    print(prediction)\n",
        "    if prediction != ans:\n",
        "      passed = False\n",
        "\n",
        "  if passed:\n",
        "    print(\"You passed the challenge. Great job!\")\n",
        "  else:\n",
        "    print(\"You haven't passed yet. Keep trying.\")\n",
        "\n",
        "test_predictions()\n"
      ]
    }
  ],
  "metadata": {
    "colab": {
      "private_outputs": true,
      "provenance": []
    },
    "kernelspec": {
      "display_name": "Python 3",
      "name": "python3"
    },
    "language_info": {}
  },
  "nbformat": 4,
  "nbformat_minor": 0
}